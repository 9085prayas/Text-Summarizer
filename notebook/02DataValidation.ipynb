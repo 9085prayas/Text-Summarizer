{
 "cells": [
  {
   "cell_type": "code",
   "execution_count": 3,
   "id": "68b0519c",
   "metadata": {},
   "outputs": [],
   "source": [
    "#this file is used to validate data ie cleaning data , #checking for null values, checking for duplicates etc\n",
    "\n",
    "import os"
   ]
  },
  {
   "cell_type": "code",
   "execution_count": 4,
   "id": "bc3312fb",
   "metadata": {},
   "outputs": [],
   "source": [
    "os.chdir(\"../\")"
   ]
  },
  {
   "cell_type": "code",
   "execution_count": 5,
   "id": "23c180b0",
   "metadata": {},
   "outputs": [
    {
     "data": {
      "text/plain": [
       "'c:\\\\Users\\\\hp\\\\Desktop\\\\Projects\\\\Text-Summarizer'"
      ]
     },
     "execution_count": 5,
     "metadata": {},
     "output_type": "execute_result"
    }
   ],
   "source": [
    "%pwd"
   ]
  },
  {
   "cell_type": "code",
   "execution_count": 6,
   "id": "9e13931a",
   "metadata": {},
   "outputs": [],
   "source": [
    "from dataclasses import dataclass\n",
    "from pathlib import Path\n",
    "\n",
    "@dataclass(frozen=True)\n",
    "class DataValidationConfig:\n",
    "    root_dir: Path\n",
    "    STATUS_FILE: Path\n",
    "    ALL_REQUIRED_FILES: list\n"
   ]
  },
  {
   "cell_type": "code",
   "execution_count": 7,
   "id": "014b57c0",
   "metadata": {},
   "outputs": [],
   "source": [
    "from text_summarizer.constant import *\n",
    "from text_summarizer.utils.common import *"
   ]
  },
  {
   "cell_type": "code",
   "execution_count": 8,
   "id": "61e4c096",
   "metadata": {},
   "outputs": [],
   "source": [
    "class ConfigurationManager:\n",
    "    def __init__(self,\n",
    "                 config_filepath=CONFIG_FILE_PATH,\n",
    "                 params_filepath=PARAMS_FILE_PATH):\n",
    "        self.config = read_yaml(config_filepath)\n",
    "        self.params = read_yaml(params_filepath)\n",
    "\n",
    "\n",
    "        create_directories([self.config.artifacts_root])\n",
    "\n",
    "    def get_data_validation_config(self) -> DataValidationConfig:\n",
    "        config = self.config.data_validation\n",
    "\n",
    "        create_directories([config.root_dir])\n",
    "        data_validation_config = DataValidationConfig(\n",
    "            root_dir = config.root_dir,\n",
    "            STATUS_FILE = config.STATUS_FILE,\n",
    "            ALL_REQUIRED_FILES=config.ALL_REQUIRED_FILES\n",
    "        )\n",
    "\n",
    "        return data_validation_config"
   ]
  },
  {
   "cell_type": "code",
   "execution_count": 9,
   "id": "082d0f79",
   "metadata": {},
   "outputs": [],
   "source": [
    "from text_summarizer.logging import logger"
   ]
  },
  {
   "cell_type": "code",
   "execution_count": 13,
   "id": "d6e6db30",
   "metadata": {},
   "outputs": [],
   "source": [
    "class DataValidation:\n",
    "    def __init__(self, config: DataValidationConfig):\n",
    "        self.config = config\n",
    "\n",
    "    def validate_all_files_exist(self) -> bool:\n",
    "        try:\n",
    "            validation_status = True\n",
    "            all_files = os.listdir(os.path.join(\"artifacts\", \"data_ingestion\",\"samsum_dataset\"))\n",
    "\n",
    "            for file in all_files:\n",
    "                if file not in self.config.ALL_REQUIRED_FILES:\n",
    "                    logger.info(f\"File {file} is not a required file.\")\n",
    "                    validation_status = False\n",
    "                    with open(self.config.STATUS_FILE, 'a') as status_file:\n",
    "                        status_file.write(f\"Validation status: {validation_status }\\n\")\n",
    "                else:\n",
    "                    validation_status = True\n",
    "                    with open(self.config.STATUS_FILE, 'a') as status_file:\n",
    "                        status_file.write(f\"Validation status: {validation_status }\\n\")\n",
    "            \n",
    "            return validation_status\n",
    "        except Exception as e:\n",
    "            raise e "
   ]
  },
  {
   "cell_type": "code",
   "execution_count": 14,
   "id": "e2334749",
   "metadata": {},
   "outputs": [
    {
     "name": "stdout",
     "output_type": "stream",
     "text": [
      "2025-08-06 00:08:41,234  - INFO - common - yaml file: config\\config.yaml loaded successfully\n",
      "2025-08-06 00:08:41,236  - INFO - common - yaml file: params.yaml loaded successfully\n",
      "2025-08-06 00:08:41,238  - INFO - common - created directory at: artifacts\n",
      "2025-08-06 00:08:41,239  - INFO - common - created directory at: artifacts/data_validation\n",
      "2025-08-06 00:08:41,240  - INFO - 282417006 - File dataset_dict.json is not a required file.\n"
     ]
    }
   ],
   "source": [
    "try:\n",
    "    config_manager = ConfigurationManager()\n",
    "    data_validation_config = config_manager.get_data_validation_config()\n",
    "    data_validation = DataValidation(config=data_validation_config)\n",
    "\n",
    "    data_validation.validate_all_files_exist()\n",
    "except Exception as e:\n",
    "    raise e\n"
   ]
  },
  {
   "cell_type": "code",
   "execution_count": null,
   "id": "daaf3727",
   "metadata": {},
   "outputs": [],
   "source": []
  }
 ],
 "metadata": {
  "kernelspec": {
   "display_name": ".venv",
   "language": "python",
   "name": "python3"
  },
  "language_info": {
   "codemirror_mode": {
    "name": "ipython",
    "version": 3
   },
   "file_extension": ".py",
   "mimetype": "text/x-python",
   "name": "python",
   "nbconvert_exporter": "python",
   "pygments_lexer": "ipython3",
   "version": "3.10.9"
  }
 },
 "nbformat": 4,
 "nbformat_minor": 5
}
